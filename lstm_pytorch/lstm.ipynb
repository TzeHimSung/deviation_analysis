{
 "cells": [
  {
   "cell_type": "code",
   "execution_count": 1,
   "metadata": {},
   "outputs": [
    {
     "output_type": "execute_result",
     "data": {
      "text/plain": "<torch._C.Generator at 0x7f1ef13152d0>"
     },
     "metadata": {},
     "execution_count": 1
    }
   ],
   "source": [
    "# -*- coding:utf:8 -*-\n",
    "import os\n",
    "import numpy as np\n",
    "import pandas as pd\n",
    "import matplotlib.pyplot as plt\n",
    "# import pytorch modules\n",
    "import torch\n",
    "import torch.nn as nn\n",
    "import torch.nn.functional as F\n",
    "import torch.optim as optim\n",
    "\n",
    "torch.manual_seed(1)"
   ]
  },
  {
   "cell_type": "code",
   "execution_count": 2,
   "metadata": {
    "tags": []
   },
   "outputs": [
    {
     "output_type": "stream",
     "name": "stdout",
     "text": "Inputs: [tensor([[-0.5525,  0.6355, -0.3968]]), tensor([[-0.6571, -1.6428,  0.9803]]), tensor([[-0.0421, -0.8206,  0.3133]]), tensor([[-1.1352,  0.3773, -0.2824]]), tensor([[-2.5667, -1.4303,  0.5009]])]\nhidden: (tensor([[[ 0.5438, -0.4057,  1.1341]]]), tensor([[[-1.1115,  0.3501, -0.7703]]]))\nout1: tensor([[[-0.3600,  0.0893,  0.0215]]], grad_fn=<StackBackward>)\nhidden2: (tensor([[[-0.3600,  0.0893,  0.0215]]], grad_fn=<StackBackward>), tensor([[[-1.1298,  0.4467,  0.0254]]], grad_fn=<StackBackward>))\nout2: tensor([[[-0.0187,  0.1713, -0.2944]],\n\n        [[-0.3521,  0.1026, -0.2971]],\n\n        [[-0.3191,  0.0781, -0.1957]],\n\n        [[-0.1634,  0.0941, -0.1637]],\n\n        [[-0.3368,  0.0959, -0.0538]]], grad_fn=<StackBackward>)\nhidden3: (tensor([[[-0.3368,  0.0959, -0.0538]]], grad_fn=<StackBackward>), tensor([[[-0.9825,  0.4715, -0.0633]]], grad_fn=<StackBackward>))\n"
    }
   ],
   "source": [
    "# 输入dancing用一个维度为3的向量表示， 隐藏层的一个维度为3，仅有一层神经元\n",
    "# 此时，神经层的详细结构还没确定，仅仅是说这个网络可以接受[seq_len, batch_size, 3]的数据输入\n",
    "lstm = nn.LSTM(3,3)\n",
    "# 构造一个由5个dancing组成的句子，构造出来的句子向量为[5,1,3]，也就是明确告诉网络：一条句子由5个单词组成\n",
    "inputs = [torch.randn(1,3) for _ in range(5)]\n",
    "print('Inputs:', inputs)\n",
    "# 初始化隐藏状态\n",
    "hidden = (torch.randn(1,1,3), torch.randn(1,1,3))\n",
    "print('hidden:', hidden)\n",
    "\n",
    "for i in inputs:\n",
    "    # 将序列的元素逐个输入到LSTM，这里的view是把输入放到第三维，看起来有点怪\n",
    "    # 这里是固定的格式，无论是什么形式的数据都必须放到这个维度\n",
    "    out, hidden = lstm(i.view(1,1,-1), hidden)\n",
    "print('out1:', out)\n",
    "print('hidden2:', hidden)\n",
    "\n",
    "inputs = torch.cat(inputs).view(len(inputs), 1, -1)\n",
    "hidden = (torch.randn(1,1,3), torch.randn(1,1,3))\n",
    "out, hidden = lstm(inputs, hidden)\n",
    "print('out2:', out)\n",
    "print('hidden3:', hidden)"
   ]
  },
  {
   "cell_type": "code",
   "execution_count": 3,
   "metadata": {
    "tags": []
   },
   "outputs": [
    {
     "output_type": "stream",
     "name": "stdout",
     "text": "{'The': 0, 'dog': 1, 'ate': 2, 'the': 3, 'apple': 4, 'Everybody': 5, 'read': 6, 'that': 7, 'book': 8}\n"
    }
   ],
   "source": [
    "def prepare_sequence(seq, to_ix):\n",
    "    idxs = [to_ix[w] for w in seq]\n",
    "    return torch.tensor(idxs, dtype=torch.long)\n",
    "\n",
    "training_data = [\n",
    "    ('The dog ate the apple'.split(), ['DET', 'NN', 'V', 'DET', 'NN']),\n",
    "    ('Everybody read that book'.split(), ['NN', 'V', 'DET', 'NN'])\n",
    "]\n",
    "\n",
    "word_to_ix = {}\n",
    "for sent, tags in training_data:\n",
    "    for word in sent:\n",
    "        if word not in word_to_ix:\n",
    "            word_to_ix[word] = len(word_to_ix)\n",
    "\n",
    "print(word_to_ix)\n",
    "tag_to_ix = {\n",
    "    'DET': 0,\n",
    "    'NN': 1,\n",
    "    'V': 2\n",
    "}\n",
    "\n",
    "EMBEDDING_DIM = 6\n",
    "HIDDEN_DIM = 6"
   ]
  },
  {
   "cell_type": "code",
   "execution_count": 4,
   "metadata": {},
   "outputs": [],
   "source": [
    "class LSTMTagger(nn.Module):\n",
    "    def __init__(self, embedding_dim, hidden_dim, vocab_size, tagset_size):\n",
    "        super(LSTMTagger, self).__init__()\n",
    "        self.hidden_dim = hidden_dim\n",
    "\n",
    "        self.word_embeddings = nn.Embedding(vocab_size, embedding_dim)\n",
    "\n",
    "        # the LSTM takes word embeddings as inputs, and outputs hidden states\n",
    "        # with dimensionality hidden_dim\n",
    "        self.lstm = nn.LSTM(embedding_dim, hidden_dim)\n",
    "        # the linear layer that maps from hidden state space to tag space\n",
    "        self.hidden2tag = nn.Linear(hidden_dim, tagset_size)\n",
    "\n",
    "    def forward(self, sentence):\n",
    "        embeds = self.word_embeddings(sentence)\n",
    "        lstm_out, _ = self.lstm(embeds.view(len(sentence), 1, -1))\n",
    "        tag_space = self.hidden2tag(lstm_out.view(len(sentence), -1))\n",
    "        tag_scores = F.log_softmax(tag_space, dim=1)\n",
    "        return tag_scores"
   ]
  },
  {
   "cell_type": "code",
   "execution_count": 5,
   "metadata": {
    "tags": []
   },
   "outputs": [
    {
     "output_type": "stream",
     "name": "stdout",
     "text": "tensor([[-1.1389, -1.2024, -0.9693],\n        [-1.1065, -1.2200, -0.9834],\n        [-1.1286, -1.2093, -0.9726],\n        [-1.1190, -1.1960, -0.9916],\n        [-1.0137, -1.2642, -1.0366]])\ntensor([[-0.0462, -4.0106, -3.6096],\n        [-4.8205, -0.0286, -3.9045],\n        [-3.7876, -4.1355, -0.0394],\n        [-0.0185, -4.7874, -4.6013],\n        [-5.7881, -0.0186, -4.1778]])\n"
    }
   ],
   "source": [
    "# train the model\n",
    "\n",
    "model = LSTMTagger(EMBEDDING_DIM, HIDDEN_DIM, len(word_to_ix), len(tag_to_ix))\n",
    "loss_function = nn.NLLLoss()\n",
    "optimizer = optim.SGD(model.parameters(), lr=0.1)\n",
    "\n",
    "# see what the scores are before training\n",
    "# note that element i,j of the output is the score for tag j for word i\n",
    "# here we don't need to train, so the code is wrapped in torch.no_grad()\n",
    "\n",
    "with torch.no_grad():\n",
    "    inputs = prepare_sequence(training_data[0][0], word_to_ix)\n",
    "    tag_scores = model(inputs)\n",
    "    print(tag_scores)\n",
    "\n",
    "# 实际情况下不会训练300个周期\n",
    "for epoch in range(300):\n",
    "    for sentence, tags in training_data:\n",
    "        # step 1. pytorch会累加梯度。每次训练前需要清空梯度值\n",
    "        model.zero_grad()\n",
    "\n",
    "        # step 2. 准备网络输入，将其变为词索引的Tensor类型数据\n",
    "        sentence_in = prepare_sequence(sentence, word_to_ix)\n",
    "        targets = prepare_sequence(tags, tag_to_ix)\n",
    "\n",
    "        # step 3. 前向传播\n",
    "        tag_scores = model(sentence_in)\n",
    "\n",
    "        # step 4. 计算损失和梯度值，通过调用optimizer.step()来更新梯度\n",
    "        loss = loss_function(tag_scores, targets)\n",
    "        loss.backward()\n",
    "        optimizer.step()\n",
    "\n",
    "# see what the scores are after training\n",
    "with torch.no_grad():\n",
    "    inputs = prepare_sequence(training_data[0][0], word_to_ix)\n",
    "    tag_scores = model(inputs)\n",
    "\n",
    "    # the sentence is 'the dog ate the apple'. i,j corresponds to score for tag j \n",
    "    # for word i. the predicted tag is the maximum scoring tag.\n",
    "    # here, wecan see the predicted sequence below is 0 1 2 0 1\n",
    "    # since 0 is index of the maximum value of row 1,\n",
    "    # 1 is the index of maximum value of row 2, etc.\n",
    "    # which is DET NOUN VERB DET NOUN, the correct sequence\n",
    "    print(tag_scores)"
   ]
  }
 ],
 "metadata": {
  "language_info": {
   "codemirror_mode": {
    "name": "ipython",
    "version": 3
   },
   "file_extension": ".py",
   "mimetype": "text/x-python",
   "name": "python",
   "nbconvert_exporter": "python",
   "pygments_lexer": "ipython3",
   "version": "3.7.6-final"
  },
  "orig_nbformat": 2,
  "kernelspec": {
   "name": "python37664bitbasecondaf68215f9ba94453697673983d3cb8b03",
   "display_name": "Python 3.7.6 64-bit ('base': conda)"
  }
 },
 "nbformat": 4,
 "nbformat_minor": 2
}